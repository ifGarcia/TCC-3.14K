{
 "cells": [
  {
   "cell_type": "code",
   "execution_count": null,
   "metadata": {},
   "outputs": [],
   "source": [
    "'''''\n",
    "    Separa video em frames, identifica os pontos do rosto, pega a diferença entre os pontos dos olhos e boca."
   ]
  },
  {
   "cell_type": "code",
   "execution_count": null,
   "metadata": {},
   "outputs": [],
   "source": [
    "import cv2\n",
    "import numpy as np\n",
    "import os\n",
    "\n",
    "\n",
    "cap = cv2.VideoCapture('a.mp4')\n",
    "\n",
    "try:\n",
    "    if not os.path.exists('data'):\n",
    "        os.makedirs('data')\n",
    "except OSError:\n",
    "    print ('Error: Creating directory of data')\n",
    "\n",
    "currentFrame = 0\n",
    "ret, frame = cap.read()\n",
    "while(ret):\n",
    "\n",
    "    ret, frame = cap.read()\n",
    "\n",
    "    name = './data/frame' + str(currentFrame) + '.jpg'\n",
    "    print ('Creating...' + name)\n",
    "    cv2.imwrite(name, frame)\n",
    "\n",
    "    currentFrame += 1\n",
    "\n",
    "cap.release()\n",
    "cv2.destroyAllWindows()"
   ]
  },
  {
   "cell_type": "code",
   "execution_count": null,
   "metadata": {},
   "outputs": [],
   "source": [
    "video_capture.release()\n",
    "cv2.destroyAllWindows()"
   ]
  },
  {
   "cell_type": "code",
   "execution_count": null,
   "metadata": {},
   "outputs": [],
   "source": []
  },
  {
   "cell_type": "code",
   "execution_count": null,
   "metadata": {},
   "outputs": [],
   "source": [
    "'''''\n",
    "import cv2\n",
    "import os\n",
    "\n",
    "cap = cv2.VideoCapture('example_.mp4') #carrega o video na variavel\n",
    "cap.set(cv2.CAP_PROP_FPS, 30) #seta a capitura para 30 quadros por segundo\n",
    "\n",
    "currentFrame = 1\n",
    "while cap.grab(): #enquanti tiver quadros\n",
    "\n",
    "    ret, frame = cap.retrieve() #pega prximo quadro\n",
    "    currentFrame=currentFrame+1\n",
    "\n",
    "cap.release()\n",
    "cv2.destroyAllWindows()"
   ]
  },
  {
   "cell_type": "code",
   "execution_count": null,
   "metadata": {},
   "outputs": [],
   "source": []
  },
  {
   "cell_type": "code",
   "execution_count": 29,
   "metadata": {},
   "outputs": [
    {
     "ename": "IndentationError",
     "evalue": "unindent does not match any outer indentation level (<tokenize>, line 15)",
     "output_type": "error",
     "traceback": [
      "\u001b[1;36m  File \u001b[1;32m\"<tokenize>\"\u001b[1;36m, line \u001b[1;32m15\u001b[0m\n\u001b[1;33m    return ear\u001b[0m\n\u001b[1;37m    ^\u001b[0m\n\u001b[1;31mIndentationError\u001b[0m\u001b[1;31m:\u001b[0m unindent does not match any outer indentation level\n"
     ]
    }
   ],
   "source": [
    "def eye_aspect_ratio(eye): #Função responsavel por identificar distancia entre doi pontos\n",
    "\t# compute the euclidean distances between the two sets of\n",
    "\t# vertical eye landmarks (x, y)-coordinates\n",
    "\tA = dist.euclidean(eye[1], eye[5])\n",
    "\tB = dist.euclidean(eye[2], eye[4])\n",
    " \n",
    "\t# compute the euclidean distance between the horizontal\n",
    "\t# eye landmark (x, y)-coordinates\n",
    "\tC = dist.euclidean(eye[0], eye[3])\n",
    " \n",
    "\t# compute the eye aspect ratio\n",
    "\tear = (A + B) / (2.0 * C)\n",
    "\n",
    "\t# return the eye aspect ratio\n",
    "    return ear"
   ]
  },
  {
   "cell_type": "code",
   "execution_count": 51,
   "metadata": {},
   "outputs": [
    {
     "data": {
      "text/plain": [
       "\"''\\ndef distancia(pointA, pointB, _norm=np.linalg.norm):\\n    return _norm(pointA - pointB)\\n\""
      ]
     },
     "execution_count": 51,
     "metadata": {},
     "output_type": "execute_result"
    }
   ],
   "source": [
    "def distancia(a,b):\n",
    "    return math.sqrt(pow(b.x-a.x,2) + pow(b.y-a.y,2))\n",
    "    #return np.linalg.norm(a-b)\n",
    "    #return distance.euclidean(a, b)\n",
    "'''''\n",
    "def distancia(pointA, pointB, _norm=np.linalg.norm):\n",
    "    return _norm(pointA - pointB)\n",
    "'''''"
   ]
  },
  {
   "cell_type": "code",
   "execution_count": 52,
   "metadata": {},
   "outputs": [],
   "source": [
    "def ear(pontos,inicial):\n",
    "    \n",
    "    A = distancia(pontos.part(inicial+1),pontos.part(inicial+5)) + distancia(pontos.part(inicial+2),pontos.part(inicial+4))\n",
    "    C = distancia(pontos.part(inicial+0),pontos.part(inicial+3))\n",
    "    \n",
    "    return A/(2*C)"
   ]
  },
  {
   "cell_type": "code",
   "execution_count": 56,
   "metadata": {
    "scrolled": true
   },
   "outputs": [
    {
     "name": "stdout",
     "output_type": "stream",
     "text": [
      "Creating..../data/frame1.jpg\n",
      "Creating..../data/frame2.jpg\n",
      "Creating..../data/frame3.jpg\n",
      "Creating..../data/frame4.jpg\n",
      "Creating..../data/frame5.jpg\n",
      "Creating..../data/frame6.jpg\n",
      "Creating..../data/frame7.jpg\n",
      "Creating..../data/frame8.jpg\n",
      "Creating..../data/frame9.jpg\n",
      "Creating..../data/frame10.jpg\n",
      "Creating..../data/frame11.jpg\n",
      "Creating..../data/frame12.jpg\n",
      "Creating..../data/frame13.jpg\n",
      "Creating..../data/frame14.jpg\n",
      "Creating..../data/frame15.jpg\n",
      "Creating..../data/frame16.jpg\n",
      "Creating..../data/frame17.jpg\n",
      "Creating..../data/frame18.jpg\n",
      "Creating..../data/frame19.jpg\n",
      "Creating..../data/frame20.jpg\n",
      "Creating..../data/frame21.jpg\n",
      "Creating..../data/frame22.jpg\n",
      "Creating..../data/frame23.jpg\n",
      "Creating..../data/frame24.jpg\n",
      "Creating..../data/frame25.jpg\n",
      "Creating..../data/frame26.jpg\n",
      "Creating..../data/frame27.jpg\n",
      "Creating..../data/frame28.jpg\n",
      "Creating..../data/frame29.jpg\n",
      "Creating..../data/frame30.jpg\n",
      "Creating..../data/frame31.jpg\n",
      "Creating..../data/frame32.jpg\n",
      "Creating..../data/frame33.jpg\n",
      "Creating..../data/frame34.jpg\n",
      "Creating..../data/frame35.jpg\n",
      "Creating..../data/frame36.jpg\n",
      "Creating..../data/frame37.jpg\n",
      "Creating..../data/frame38.jpg\n",
      "Creating..../data/frame39.jpg\n",
      "Creating..../data/frame40.jpg\n",
      "Creating..../data/frame41.jpg\n",
      "Creating..../data/frame42.jpg\n",
      "Creating..../data/frame43.jpg\n",
      "Creating..../data/frame44.jpg\n",
      "Creating..../data/frame45.jpg\n",
      "Creating..../data/frame46.jpg\n",
      "Creating..../data/frame47.jpg\n",
      "Creating..../data/frame48.jpg\n",
      "Creating..../data/frame49.jpg\n",
      "Creating..../data/frame50.jpg\n",
      "Creating..../data/frame51.jpg\n",
      "Creating..../data/frame52.jpg\n",
      "Creating..../data/frame53.jpg\n",
      "Creating..../data/frame54.jpg\n",
      "Creating..../data/frame55.jpg\n",
      "Creating..../data/frame56.jpg\n",
      "Creating..../data/frame57.jpg\n",
      "Creating..../data/frame58.jpg\n",
      "Creating..../data/frame59.jpg\n",
      "Creating..../data/frame60.jpg\n",
      "Creating..../data/frame61.jpg\n",
      "Creating..../data/frame62.jpg\n",
      "Creating..../data/frame63.jpg\n",
      "Creating..../data/frame64.jpg\n",
      "Creating..../data/frame65.jpg\n",
      "Creating..../data/frame66.jpg\n",
      "Creating..../data/frame67.jpg\n",
      "Creating..../data/frame68.jpg\n",
      "Creating..../data/frame69.jpg\n",
      "Creating..../data/frame70.jpg\n",
      "Creating..../data/frame71.jpg\n",
      "Creating..../data/frame72.jpg\n",
      "Creating..../data/frame73.jpg\n",
      "Creating..../data/frame74.jpg\n",
      "Creating..../data/frame75.jpg\n",
      "Creating..../data/frame76.jpg\n",
      "Creating..../data/frame77.jpg\n",
      "Creating..../data/frame78.jpg\n",
      "Creating..../data/frame79.jpg\n",
      "Creating..../data/frame80.jpg\n",
      "Creating..../data/frame81.jpg\n",
      "Creating..../data/frame82.jpg\n",
      "Creating..../data/frame83.jpg\n",
      "Creating..../data/frame84.jpg\n",
      "Creating..../data/frame85.jpg\n",
      "Creating..../data/frame86.jpg\n",
      "Creating..../data/frame87.jpg\n",
      "Creating..../data/frame88.jpg\n",
      "Creating..../data/frame89.jpg\n",
      "Creating..../data/frame90.jpg\n",
      "Creating..../data/frame91.jpg\n",
      "Creating..../data/frame92.jpg\n",
      "Creating..../data/frame93.jpg\n",
      "Creating..../data/frame94.jpg\n",
      "Creating..../data/frame95.jpg\n",
      "Creating..../data/frame96.jpg\n",
      "Creating..../data/frame97.jpg\n",
      "Creating..../data/frame98.jpg\n",
      "Creating..../data/frame99.jpg\n",
      "Creating..../data/frame100.jpg\n",
      "Creating..../data/frame101.jpg\n"
     ]
    }
   ],
   "source": [
    "#Importa bibliotecas\n",
    "from scipy.spatial import distance as dist\n",
    "import cv2\n",
    "import numpy as np\n",
    "import os\n",
    "import dlib\n",
    "import pandas as pd\n",
    "import math\n",
    "\n",
    "#Abre o video e configura\n",
    "cap = cv2.VideoCapture('example_.mp4') #Carrega Video\n",
    "cap.set(cv2.CAP_PROP_FPS, 30) #Seta o FPS para 30\n",
    "\n",
    "#Inicia variaveis e dependencias\n",
    "detector = dlib.get_frontal_face_detector() #Mode de predição de rosto\n",
    "predictor = dlib.shape_predictor(\"shape_predictor_68_face_landmarks.dat\") #Modelo de predição dos postos do rosto\n",
    "currentFrame = 0\n",
    "\n",
    "#Cria diretorio para salvear iamgens\n",
    "try:\n",
    "    if not os.path.exists('data'):\n",
    "        os.makedirs('data')\n",
    "except OSError:\n",
    "    print ('Error: Creating directory of data')\n",
    "\n",
    "    \n",
    "#Percorre os frames e identifica rosto e seus pontos, pega a abertura dos olhos e da boca, escreve na imagem e salva.\n",
    "\n",
    "while(True):\n",
    "    \n",
    "    ret, frame = cap.read()\n",
    "    currentFrame += 1\n",
    "    \n",
    "    if ret:\n",
    "        \n",
    "        gray = cv2.cvtColor(frame, cv2.COLOR_BGR2GRAY) #passa o frame para preto e branco\n",
    "        detections = detector(gray, 1) #detecta as faces na imagem e retorna um retangulo de sua posição\n",
    "        \n",
    "        if detections: #se foi identificado algun rosto no frame\n",
    "            \n",
    "            for k,rosto in enumerate(detections): #pegamos os cada rosto identificado\n",
    "                shape = predictor(gray, rosto) #mandamos o rosto e recebemos os pontos do mesmo.\n",
    "                \n",
    "                cv2.line(frame, (shape.part(62).x, shape.part(62).y), (shape.part(66).x, shape.part(66).y), (0,255,0), 1)\n",
    "                \n",
    "                cv2.putText(frame, \"Olho d: \" + str(ear(shape,36)), (10, 50), cv2.FONT_HERSHEY_SIMPLEX, 1, (0, 0, 0), 2)\n",
    "                cv2.putText(frame, \"Olho e: \" + str(ear(shape,42)), (10, 70), cv2.FONT_HERSHEY_SIMPLEX, 1, (0, 0, 0), 2)\n",
    "                cv2.putText(frame, \"Boca  : \" + str(distancia(shape.part(62),shape.part(66))), (10, 90), cv2.FONT_HERSHEY_SIMPLEX, 1, (0, 0, 0), 2)\n",
    "        \n",
    "        name = './data/frame' + str(currentFrame) + '.jpg'\n",
    "        print ('Creating...' + name)\n",
    "        cv2.imwrite(name, frame)\n",
    "        \n",
    "    else:\n",
    "        break\n",
    "\n",
    "\n",
    "cap.release()\n",
    "cv2.destroyAllWindows()"
   ]
  },
  {
   "cell_type": "code",
   "execution_count": null,
   "metadata": {},
   "outputs": [],
   "source": []
  },
  {
   "cell_type": "code",
   "execution_count": null,
   "metadata": {},
   "outputs": [],
   "source": []
  },
  {
   "cell_type": "code",
   "execution_count": null,
   "metadata": {},
   "outputs": [],
   "source": []
  }
 ],
 "metadata": {
  "kernelspec": {
   "display_name": "Python 3",
   "language": "python",
   "name": "python3"
  },
  "language_info": {
   "codemirror_mode": {
    "name": "ipython",
    "version": 3
   },
   "file_extension": ".py",
   "mimetype": "text/x-python",
   "name": "python",
   "nbconvert_exporter": "python",
   "pygments_lexer": "ipython3",
   "version": "3.7.3"
  }
 },
 "nbformat": 4,
 "nbformat_minor": 2
}
