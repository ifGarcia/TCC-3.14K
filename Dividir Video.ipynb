{
 "cells": [
  {
   "cell_type": "code",
   "execution_count": 2,
   "metadata": {},
   "outputs": [],
   "source": [
    "import cv2\n",
    "#import os"
   ]
  },
  {
   "cell_type": "code",
   "execution_count": null,
   "metadata": {},
   "outputs": [],
   "source": [
    "cap = cv2.VideoCapture('example_.mp4') #carrega o video na variavel\n",
    "cap.set(cv2.CAP_PROP_FPS, 30) #seta a capitura para 30 quadros por segundo"
   ]
  },
  {
   "cell_type": "code",
   "execution_count": null,
   "metadata": {},
   "outputs": [],
   "source": [
    "currentFrame = 1\n",
    "while cap.grab(): #enquanti tiver quadros\n",
    "\n",
    "    ret, frame = cap.retrieve() #pega prximo quadro\n",
    "    currentFrame=currentFrame+1\n",
    "\n",
    "cap.release()\n",
    "cv2.destroyAllWindows()"
   ]
  },
  {
   "cell_type": "code",
   "execution_count": null,
   "metadata": {},
   "outputs": [],
   "source": [
    "currentFrame"
   ]
  },
  {
   "cell_type": "code",
   "execution_count": 4,
   "metadata": {},
   "outputs": [
    {
     "name": "stdout",
     "output_type": "stream",
     "text": [
      "Creating..../data/frame0.jpg\n",
      "Creating..../data/frame1.jpg\n",
      "Creating..../data/frame2.jpg\n",
      "Creating..../data/frame3.jpg\n",
      "Creating..../data/frame4.jpg\n",
      "Creating..../data/frame5.jpg\n",
      "Creating..../data/frame6.jpg\n",
      "Creating..../data/frame7.jpg\n",
      "Creating..../data/frame8.jpg\n",
      "Creating..../data/frame9.jpg\n",
      "Creating..../data/frame10.jpg\n",
      "Creating..../data/frame11.jpg\n",
      "Creating..../data/frame12.jpg\n",
      "Creating..../data/frame13.jpg\n",
      "Creating..../data/frame14.jpg\n",
      "Creating..../data/frame15.jpg\n",
      "Creating..../data/frame16.jpg\n",
      "Creating..../data/frame17.jpg\n",
      "Creating..../data/frame18.jpg\n",
      "Creating..../data/frame19.jpg\n",
      "Creating..../data/frame20.jpg\n",
      "Creating..../data/frame21.jpg\n",
      "Creating..../data/frame22.jpg\n",
      "Creating..../data/frame23.jpg\n",
      "Creating..../data/frame24.jpg\n",
      "Creating..../data/frame25.jpg\n",
      "Creating..../data/frame26.jpg\n",
      "Creating..../data/frame27.jpg\n",
      "Creating..../data/frame28.jpg\n",
      "Creating..../data/frame29.jpg\n",
      "Creating..../data/frame30.jpg\n",
      "Creating..../data/frame31.jpg\n",
      "Creating..../data/frame32.jpg\n",
      "Creating..../data/frame33.jpg\n",
      "Creating..../data/frame34.jpg\n",
      "Creating..../data/frame35.jpg\n",
      "Creating..../data/frame36.jpg\n",
      "Creating..../data/frame37.jpg\n",
      "Creating..../data/frame38.jpg\n",
      "Creating..../data/frame39.jpg\n",
      "Creating..../data/frame40.jpg\n",
      "Creating..../data/frame41.jpg\n",
      "Creating..../data/frame42.jpg\n",
      "Creating..../data/frame43.jpg\n",
      "Creating..../data/frame44.jpg\n",
      "Creating..../data/frame45.jpg\n",
      "Creating..../data/frame46.jpg\n",
      "Creating..../data/frame47.jpg\n",
      "Creating..../data/frame48.jpg\n",
      "Creating..../data/frame49.jpg\n",
      "Creating..../data/frame50.jpg\n",
      "Creating..../data/frame51.jpg\n",
      "Creating..../data/frame52.jpg\n",
      "Creating..../data/frame53.jpg\n",
      "Creating..../data/frame54.jpg\n",
      "Creating..../data/frame55.jpg\n",
      "Creating..../data/frame56.jpg\n",
      "Creating..../data/frame57.jpg\n",
      "Creating..../data/frame58.jpg\n",
      "Creating..../data/frame59.jpg\n"
     ]
    }
   ],
   "source": [
    "import cv2\n",
    "import numpy as np\n",
    "import os\n",
    "\n",
    "\n",
    "cap = cv2.VideoCapture('a.mp4')\n",
    "\n",
    "try:\n",
    "    if not os.path.exists('data'):\n",
    "        os.makedirs('data')\n",
    "except OSError:\n",
    "    print ('Error: Creating directory of data')\n",
    "\n",
    "currentFrame = 0\n",
    "ret, frame = cap.read()\n",
    "while(ret):\n",
    "\n",
    "    ret, frame = cap.read()\n",
    "\n",
    "\n",
    "    name = './data/frame' + str(currentFrame) + '.jpg'\n",
    "    print ('Creating...' + name)\n",
    "    cv2.imwrite(name, frame)\n",
    "\n",
    "\n",
    "    currentFrame += 1\n",
    "\n",
    "\n",
    "cap.release()\n",
    "cv2.destroyAllWindows()"
   ]
  },
  {
   "cell_type": "code",
   "execution_count": 5,
   "metadata": {},
   "outputs": [
    {
     "ename": "NameError",
     "evalue": "name 'video_capture' is not defined",
     "output_type": "error",
     "traceback": [
      "\u001b[1;31m---------------------------------------------------------------------------\u001b[0m",
      "\u001b[1;31mNameError\u001b[0m                                 Traceback (most recent call last)",
      "\u001b[1;32m<ipython-input-5-7f0f5456094b>\u001b[0m in \u001b[0;36m<module>\u001b[1;34m\u001b[0m\n\u001b[1;32m----> 1\u001b[1;33m \u001b[0mvideo_capture\u001b[0m\u001b[1;33m.\u001b[0m\u001b[0mrelease\u001b[0m\u001b[1;33m(\u001b[0m\u001b[1;33m)\u001b[0m\u001b[1;33m\u001b[0m\u001b[1;33m\u001b[0m\u001b[0m\n\u001b[0m\u001b[0;32m      2\u001b[0m \u001b[0mcv2\u001b[0m\u001b[1;33m.\u001b[0m\u001b[0mdestroyAllWindows\u001b[0m\u001b[1;33m(\u001b[0m\u001b[1;33m)\u001b[0m\u001b[1;33m\u001b[0m\u001b[1;33m\u001b[0m\u001b[0m\n",
      "\u001b[1;31mNameError\u001b[0m: name 'video_capture' is not defined"
     ]
    }
   ],
   "source": [
    "video_capture.release()\n",
    "cv2.destroyAllWindows()"
   ]
  },
  {
   "cell_type": "code",
   "execution_count": null,
   "metadata": {},
   "outputs": [],
   "source": []
  }
 ],
 "metadata": {
  "kernelspec": {
   "display_name": "Python 3",
   "language": "python",
   "name": "python3"
  },
  "language_info": {
   "codemirror_mode": {
    "name": "ipython",
    "version": 3
   },
   "file_extension": ".py",
   "mimetype": "text/x-python",
   "name": "python",
   "nbconvert_exporter": "python",
   "pygments_lexer": "ipython3",
   "version": "3.7.3"
  }
 },
 "nbformat": 4,
 "nbformat_minor": 2
}
