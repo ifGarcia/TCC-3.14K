{
 "cells": [
  {
   "cell_type": "code",
   "execution_count": null,
   "metadata": {},
   "outputs": [],
   "source": [
    "from math import sqrt\n",
    "import cv2\n",
    "import dlib\n",
    "\n",
    "video_capture = cv2.VideoCapture(0) #Abre a Camera\n",
    "video_capture.set(cv2.CAP_PROP_FPS, 30) #Seta o FPS para 30\n",
    "\n",
    "detector = dlib.get_frontal_face_detector() #Mode de predição de rosto\n",
    "predictor = dlib.shape_predictor(\"../Dependencias/shape_predictor_68_face_landmarks.dat\") #Modelo de predição dos postos do rosto\n",
    "\n",
    "\n",
    "while True:\n",
    "    \n",
    "    ret, frame = video_capture.read() #Recupera frame da camera e \"carrega\" o mesmo\n",
    "    \n",
    "    if ret: #Se o frame foi encontrado\n",
    "        \n",
    "        gray = cv2.cvtColor(frame, cv2.COLOR_BGR2GRAY)\n",
    "        #clahe = cv2.createCLAHE(clipLimit=2.0, tileGridSize=(8,8)) #Caso necessario, limpa a imagem deixando ela mais nitida para o modelo de predição\n",
    "        #clahe_image = clahe.apply(gray)\n",
    "\n",
    "        detections = detector(gray, 1) #Detect the faces in the image\n",
    "\n",
    "        if detections:\n",
    "            for k,d in enumerate(detections): #For each detected face  \n",
    "                shape = predictor(gray, d) #Pega coordenadas, manda imagem e um retangulo da face na imagem.\n",
    "                for i in range(1,68): #There are 68 landmark points on each face\n",
    "                    cv2.circle(frame, (shape.part(i).x, shape.part(i).y), 1, (0,255,0), thickness=-1) #For each point, draw a red circle with thickness2 on the original frame\n",
    "                    for x in range(1,17):#queixo\n",
    "                        cv2.line(frame, (shape.part(x).x, shape.part(x).y), (shape.part(x-1).x, shape.part(x-1).y), (0,255,0), 1)\n",
    "                    for x in range(18,22):#Somb d\n",
    "                        cv2.line(frame, (shape.part(x).x, shape.part(x).y), (shape.part(x-1).x, shape.part(x-1).y), (0,255,0), 1)\n",
    "                    for x in range(23,27):#Somb e\n",
    "                        cv2.line(frame, (shape.part(x).x, shape.part(x).y), (shape.part(x-1).x, shape.part(x-1).y), (0,255,0), 1)\n",
    "                    for x in range(37,42):#olho e\n",
    "                        cv2.line(frame, (shape.part(x).x, shape.part(x).y), (shape.part(x-1).x, shape.part(x-1).y), (0,255,0), 1)\n",
    "                    cv2.line(frame, (shape.part(36).x, shape.part(36).y), (shape.part(41).x, shape.part(41).y), (0,255,0), 1)\n",
    "                    for x in range(43,48):#olho d\n",
    "                        cv2.line(frame, (shape.part(x).x, shape.part(x).y), (shape.part(x-1).x, shape.part(x-1).y), (0,255,0), 1)\n",
    "                    cv2.line(frame, (shape.part(42).x, shape.part(42).y), (shape.part(47).x, shape.part(47).y), (0,255,0), 1)    \n",
    "                    for x in range(28,36):#nariz\n",
    "                        cv2.line(frame, (shape.part(x).x, shape.part(x).y), (shape.part(x-1).x, shape.part(x-1).y), (0,255,0), 1)\n",
    "                    for x in range(30,36):#nariz ponta\n",
    "                        cv2.line(frame, (shape.part(30).x, shape.part(30).y), (shape.part(x).x, shape.part(x).y), (0,255,0), 1)\n",
    "                    for x in range(49,60):#boca fora\n",
    "                        cv2.line(frame, (shape.part(x).x, shape.part(x).y), (shape.part(x-1).x, shape.part(x-1).y), (0,255,0), 1)\n",
    "                    cv2.line(frame, (shape.part(48).x, shape.part(48).y), (shape.part(59).x, shape.part(59).y), (0,255,0), 1)\n",
    "                    for x in range(61,68):#boca dentro\n",
    "                        cv2.line(frame, (shape.part(x).x, shape.part(x).y), (shape.part(x-1).x, shape.part(x-1).y), (0,255,0), 1)\n",
    "                    cv2.line(frame, (shape.part(60).x, shape.part(60).y), (shape.part(67).x, shape.part(67).y), (0,255,0), 1)\n",
    "\n",
    "            cv2.putText(frame, \"Olho d: \" + str(sqrt((shape.part(45).x-shape.part(47).x)**2) + ((shape.part(45).y-shape.part(47).y)**2)), (10, 50), cv2.FONT_HERSHEY_SIMPLEX, 0.5, (0, 0, 0), 2)\n",
    "            cv2.putText(frame, \"Olho e: \" + str(sqrt((shape.part(39).x-shape.part(41).x)**2) + ((shape.part(39).y-shape.part(41).y)**2)), (10, 70), cv2.FONT_HERSHEY_SIMPLEX, 0.5, (0, 0, 0), 2)\n",
    "            cv2.putText(frame, \"Boca  : \" + str(sqrt((shape.part(63).x-shape.part(67).x)**2) + ((shape.part(63).y-shape.part(67).y)**2)), (10, 90), cv2.FONT_HERSHEY_SIMPLEX, 0.5, (0, 0, 0), 2)\n",
    "            cv2.putText(frame, str(shape.part(1).y), (10, 110), cv2.FONT_HERSHEY_SIMPLEX, 0.5, (0, 0, 0), 2)\n",
    "    #cv2.line(image, (x1, y1), (x2, y2), (0,255,0), lineThickness)\n",
    "\n",
    "        cv2.imshow(\"image\", frame) #Display the frame\n",
    "        \n",
    "    if cv2.waitKey(1) & 0xFF == ord('q'): #Exit program when the user presses 'q'\n",
    "        video_capture.release()\n",
    "        cv2.destroyAllWindows()\n",
    "        break"
   ]
  },
  {
   "cell_type": "code",
   "execution_count": null,
   "metadata": {},
   "outputs": [],
   "source": [
    "video_capture.release()\n",
    "cv2.destroyAllWindows()"
   ]
  },
  {
   "cell_type": "code",
   "execution_count": null,
   "metadata": {},
   "outputs": [],
   "source": []
  },
  {
   "cell_type": "code",
   "execution_count": null,
   "metadata": {},
   "outputs": [],
   "source": []
  }
 ],
 "metadata": {
  "kernelspec": {
   "display_name": "Python 3",
   "language": "python",
   "name": "python3"
  },
  "language_info": {
   "codemirror_mode": {
    "name": "ipython",
    "version": 3
   },
   "file_extension": ".py",
   "mimetype": "text/x-python",
   "name": "python",
   "nbconvert_exporter": "python",
   "pygments_lexer": "ipython3",
   "version": "3.7.3"
  }
 },
 "nbformat": 4,
 "nbformat_minor": 2
}
