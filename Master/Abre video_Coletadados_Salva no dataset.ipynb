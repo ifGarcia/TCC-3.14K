{
 "cells": [
  {
   "cell_type": "code",
   "execution_count": null,
   "metadata": {},
   "outputs": [],
   "source": [
    "import cv2\n",
    "import dlib\n",
    "import pandas as pd"
   ]
  },
  {
   "cell_type": "code",
   "execution_count": null,
   "metadata": {},
   "outputs": [],
   "source": [
    "video_capture = cv2.VideoCapture('example_.mp4') #carrega o video na variavel"
   ]
  },
  {
   "cell_type": "code",
   "execution_count": null,
   "metadata": {},
   "outputs": [],
   "source": [
    "video_capture.get(cv2.CAP_PROP_POS_MSEC)"
   ]
  },
  {
   "cell_type": "code",
   "execution_count": null,
   "metadata": {},
   "outputs": [],
   "source": [
    "video_capture.get(cv2.CAP_PROP_POS_FRAMES)"
   ]
  },
  {
   "cell_type": "code",
   "execution_count": null,
   "metadata": {},
   "outputs": [],
   "source": [
    "video_capture.get(cv2.CAP_PROP_FRAME_COUNT)"
   ]
  },
  {
   "cell_type": "code",
   "execution_count": null,
   "metadata": {},
   "outputs": [],
   "source": [
    "detector = dlib.get_frontal_face_detector() #Face detector\n",
    "predictor = dlib.shape_predictor(\"../Dependencias/shape_predictor_68_face_landmarks.dat\") #preve os pontos do rosto"
   ]
  },
  {
   "cell_type": "code",
   "execution_count": null,
   "metadata": {},
   "outputs": [],
   "source": [
    "data = pd.DataFrame() #criar data frame vazio\n",
    "linha = pd.Series() #cria vetor"
   ]
  },
  {
   "cell_type": "code",
   "execution_count": null,
   "metadata": {},
   "outputs": [],
   "source": [
    "currentFrame = 1\n",
    "semRosto = 0\n",
    "while video_capture.grab(): #enquanto tiver quadros\n",
    "\n",
    "    currentFrame=currentFrame+1\n",
    "    \n",
    "    ret, frame = video_capture.retrieve() #pega prximo quadro\n",
    "    gray = cv2.cvtColor(frame, cv2.COLOR_BGR2GRAY) #passa a imagem para sinza\n",
    "    ''''\n",
    "    clahe = cv2.createCLAHE(clipLimit=2.0, tileGridSize=(8,8)) #cria uma configuração para tratar imagem a partir do contrates\n",
    "    clahe_image = clahe.apply(gray) #aplica a configuração acima para isso\n",
    "    ''''\n",
    "    #cv2.imshow(\"image\", frame) #Display the frame\n",
    "    \n",
    "    detections = detector(clahe_image, 1) #Detect the faces in the image\n",
    "\n",
    "    if detections:\n",
    "        for k,d in enumerate(detections): #For each detected face  \n",
    "            shape = predictor(clahe_image, d) #Get coordinates\n",
    "            for i in range(1,68): #There are 68 landmark points on each face\n",
    "            #cv2.circle(frame, (shape.part(i).x, shape.part(i).y), 1, (0,255,0), thickness=-1) #For each point, draw a red circle with thickness2 on the original frame            \n",
    "                linha = linha.append(pd.Series([shape.part(i).x,shape.part(i).y]),ignore_index=True) #adiciona as cordenadas no vetor\n",
    "        data = data.append(linha,ignore_index=True) #adiciona um linha com os valores do vetor\n",
    "    #cv2.putText(frame, str(shape.part(1).x), (10, 50), cv2.FONT_HERSHEY_SIMPLEX, 1, (0, 0, 0), 2)\n",
    "    else:\n",
    "        semRosto = semRosto+1\n",
    "\n",
    "video_capture.release()\n",
    "cv2.destroyAllWindows()"
   ]
  },
  {
   "cell_type": "code",
   "execution_count": null,
   "metadata": {},
   "outputs": [],
   "source": [
    "ret, frame = video_capture.read() #pega prximo quadro\n",
    "if ret:\n",
    "    cv2.imshow(\"image\", frame)\n",
    "    frame = cv2.flip(frame,180)\n",
    "else:\n",
    "    chora"
   ]
  },
  {
   "cell_type": "code",
   "execution_count": null,
   "metadata": {},
   "outputs": [],
   "source": [
    "video_capture.release()\n",
    "cv2.destroyAllWindows()"
   ]
  },
  {
   "cell_type": "code",
   "execution_count": null,
   "metadata": {},
   "outputs": [],
   "source": [
    "data"
   ]
  },
  {
   "cell_type": "code",
   "execution_count": null,
   "metadata": {},
   "outputs": [],
   "source": []
  },
  {
   "cell_type": "code",
   "execution_count": null,
   "metadata": {},
   "outputs": [],
   "source": []
  },
  {
   "cell_type": "code",
   "execution_count": null,
   "metadata": {},
   "outputs": [],
   "source": []
  }
 ],
 "metadata": {
  "kernelspec": {
   "display_name": "Python 3",
   "language": "python",
   "name": "python3"
  },
  "language_info": {
   "codemirror_mode": {
    "name": "ipython",
    "version": 3
   },
   "file_extension": ".py",
   "mimetype": "text/x-python",
   "name": "python",
   "nbconvert_exporter": "python",
   "pygments_lexer": "ipython3",
   "version": "3.7.3"
  }
 },
 "nbformat": 4,
 "nbformat_minor": 2
}
