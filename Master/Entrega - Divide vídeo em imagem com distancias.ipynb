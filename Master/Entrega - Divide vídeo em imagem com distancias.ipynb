{
 "cells": [
  {
   "cell_type": "code",
   "execution_count": null,
   "metadata": {},
   "outputs": [],
   "source": [
    "#Separa video em frames, identifica os pontos do rosto, pega a abertura dos olhos e da boca."
   ]
  },
  {
   "cell_type": "code",
   "execution_count": null,
   "metadata": {},
   "outputs": [],
   "source": [
    "#retona distancia entre dois pontos\n",
    "def distancia(a,b):\n",
    "    return math.sqrt(pow(b.x-a.x,2) + pow(b.y-a.y,2))\n",
    "#retorna ear do olho, recebe todos os ponto, e o ponto inical do olho\n",
    "def ear(pontos,inicial):\n",
    "    A = distancia(pontos.part(inicial+1),pontos.part(inicial+5)) + distancia(pontos.part(inicial+2),pontos.part(inicial+4))\n",
    "    C = distancia(pontos.part(inicial+0),pontos.part(inicial+3))\n",
    "    return A/(2*C)"
   ]
  },
  {
   "cell_type": "code",
   "execution_count": null,
   "metadata": {
    "scrolled": true
   },
   "outputs": [],
   "source": [
    "#Importa bibliotecas\n",
    "from scipy.spatial import distance as dist\n",
    "import cv2\n",
    "import numpy as np\n",
    "import os\n",
    "import dlib\n",
    "import pandas as pd\n",
    "import math\n",
    "\n",
    "#Abre o video e configura\n",
    "cap = cv2.VideoCapture('../Videos/example_.mp4') #Carrega Video\n",
    "cap.set(cv2.CAP_PROP_FPS, 30) #Seta o FPS para 30\n",
    "\n",
    "#Inicia variaveis e dependencias\n",
    "detector = dlib.get_frontal_face_detector() #Mode de predição de rosto\n",
    "predictor = dlib.shape_predictor(\"../Dependencias/shape_predictor_68_face_landmarks.dat\") #Modelo de predição dos postos do rosto\n",
    "currentFrame = 0\n",
    "\n",
    "#Cria diretorio para salvear iamgens\n",
    "try:\n",
    "    if not os.path.exists('../data'):\n",
    "        os.makedirs('../data')\n",
    "except OSError:\n",
    "    print ('Error: Creating directory of data')\n",
    "\n",
    "    \n",
    "#Percorre os frames e identifica rosto e seus pontos, pega a abertura dos olhos e da boca, escreve na imagem e salva.\n",
    "\n",
    "while(True):\n",
    "    \n",
    "    ret, frame = cap.read()\n",
    "    currentFrame += 1\n",
    "    \n",
    "    if ret:\n",
    "        \n",
    "        gray = cv2.cvtColor(frame, cv2.COLOR_BGR2GRAY) #passa o frame para preto e branco\n",
    "        detections = detector(gray, 1) #detecta as faces na imagem e retorna um retangulo de sua posição\n",
    "        \n",
    "        if detections: #se foi identificado algun rosto no frame\n",
    "            \n",
    "            for k,rosto in enumerate(detections): #pegamos os cada rosto identificado\n",
    "                shape = predictor(gray, rosto) #mandamos o rosto e recebemos os pontos do mesmo.\n",
    "                \n",
    "                #Liga os pontos do meio da Boca na imagem\n",
    "                cv2.line(frame, (shape.part(62).x, shape.part(62).y), (shape.part(66).x, shape.part(66).y), (0,255,0), 1)\n",
    "                #Calcul e escreve na imagem as distancias dos olhos e da boca\n",
    "                cv2.putText(frame, \"Olho d: \" + str(ear(shape,36)), (10, 50), cv2.FONT_HERSHEY_SIMPLEX, 1, (0, 0, 0), 2)\n",
    "                cv2.putText(frame, \"Olho e: \" + str(ear(shape,42)), (10, 70), cv2.FONT_HERSHEY_SIMPLEX, 1, (0, 0, 0), 2)\n",
    "                cv2.putText(frame, \"Boca  : \" + str(distancia(shape.part(62),shape.part(66))), (10, 90), cv2.FONT_HERSHEY_SIMPLEX, 1, (0, 0, 0), 2)\n",
    "        \n",
    "        name = '../data/frame' + str(currentFrame) + '.jpg'\n",
    "        #print ('Creating...' + name)\n",
    "        cv2.imwrite(name, frame)\n",
    "        \n",
    "    else:\n",
    "        break\n",
    "\n",
    "\n",
    "cap.release()\n",
    "cv2.destroyAllWindows()"
   ]
  },
  {
   "cell_type": "code",
   "execution_count": null,
   "metadata": {},
   "outputs": [],
   "source": []
  }
 ],
 "metadata": {
  "kernelspec": {
   "display_name": "Python 3",
   "language": "python",
   "name": "python3"
  },
  "language_info": {
   "codemirror_mode": {
    "name": "ipython",
    "version": 3
   },
   "file_extension": ".py",
   "mimetype": "text/x-python",
   "name": "python",
   "nbconvert_exporter": "python",
   "pygments_lexer": "ipython3",
   "version": "3.7.3"
  }
 },
 "nbformat": 4,
 "nbformat_minor": 2
}
