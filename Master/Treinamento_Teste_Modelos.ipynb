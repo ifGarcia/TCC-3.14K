{
 "cells": [
  {
   "cell_type": "markdown",
   "metadata": {},
   "source": [
    "## Treinamento e teste dos modelos \"svm\" e \"linear_model\" <br>\n",
    "Testes e análise de resultado dos modelos"
   ]
  },
  {
   "cell_type": "code",
   "execution_count": 1,
   "metadata": {},
   "outputs": [],
   "source": [
    "#Import das bibliotecas ultilizadas\n",
    "import dlib\n",
    "import pandas as pd\n",
    "import os\n",
    "import matplotlib.pyplot as plt\n",
    "import seaborn as sns\n",
    "import numpy as np\n",
    "#%matplotlib inline"
   ]
  },
  {
   "cell_type": "code",
   "execution_count": 2,
   "metadata": {},
   "outputs": [],
   "source": [
    "#Abrindo os arquivos com os dados base coletados anteriormente.\n",
    "dataframeDormindo = pd.read_csv('Base_Dormindo.cvs')\n",
    "dataframeNormal   = pd.read_csv('Base_Normal.cvs')"
   ]
  },
  {
   "cell_type": "code",
   "execution_count": 3,
   "metadata": {},
   "outputs": [],
   "source": [
    "dataframeNormal.columns = dataframeDormindo.columns"
   ]
  },
  {
   "cell_type": "code",
   "execution_count": null,
   "metadata": {},
   "outputs": [],
   "source": [
    "#APAGAR COLUNA\n",
    "    #dataframeDormindo.drop('Unnamed: 0', inplace=True, axis=1)\n",
    "#Adiciona coluna tag\n",
    "    #dataframeDormindo['tag'] = \"dormindo\"\n",
    "    #dataframeDormindo\n",
    "\n",
    "#____________________________________________________________________\n",
    "#____________________________________________________________________\n",
    "\n",
    "#APAGAR COLUNA\n",
    "    #dataframeNormal.drop('Unnamed: 0', inplace=True, axis=1) \n",
    "#Adiciona coluna tag\n",
    "    #dataframeNormal['tag'] = \"normal\"\n",
    "    #dataframeNormal"
   ]
  },
  {
   "cell_type": "code",
   "execution_count": null,
   "metadata": {},
   "outputs": [],
   "source": [
    "#Salvar os dados sem considerar o index\n",
    "    #dataframeDormindo.to_csv(\"Base_Dormindo.cvs\",index=False)\n",
    "    #dataframeNormal.to_csv(\"Base_Normal.cvs\",index=False)"
   ]
  },
  {
   "cell_type": "code",
   "execution_count": 4,
   "metadata": {},
   "outputs": [],
   "source": [
    "#data frame \"dataTeste\" recebe as base de dados\n",
    "dataTeste = dataframeDormindo.append(dataframeNormal, ignore_index=True) "
   ]
  },
  {
   "cell_type": "code",
   "execution_count": 5,
   "metadata": {},
   "outputs": [],
   "source": [
    "#Embaralhamos as linhas para os dados não ficarem alinhados\n",
    "dataTeste = dataTeste.reindex(np.random.permutation(dataTeste.index))\n",
    "dataTeste = dataTeste.reset_index(drop=True)"
   ]
  },
  {
   "cell_type": "markdown",
   "metadata": {},
   "source": [
    "## Treinar os modelos"
   ]
  },
  {
   "cell_type": "code",
   "execution_count": 6,
   "metadata": {},
   "outputs": [],
   "source": [
    "#Import da biblioteca e do modulo para dividir os dados para teste e para treianmento\n",
    "from sklearn.model_selection import train_test_split"
   ]
  },
  {
   "cell_type": "code",
   "execution_count": 7,
   "metadata": {},
   "outputs": [],
   "source": [
    "#Separando os dados\n",
    "\n",
    "#Retirando a coluna \"tag\" e salvando\n",
    "X = dataTeste.drop('tag',axis=1)\n",
    "#Cria a coluna novamente porém sem os dados\n",
    "y = dataTeste['tag']\n",
    "#Separamos os dados e definimos 30% de dados para teste\n",
    "X_train, X_test, y_train, y_test = train_test_split(X, y, test_size=0.30)"
   ]
  },
  {
   "cell_type": "code",
   "execution_count": 48,
   "metadata": {},
   "outputs": [],
   "source": [
    "#import da biblioteca e dos modulos dos modelos para treinamento\n",
    "from sklearn.svm import SVC\n",
    "from sklearn.linear_model import LogisticRegression\n",
    "#from xgboost import XGBRegressor\n",
    "from xgboost import XGBClassifier"
   ]
  },
  {
   "cell_type": "code",
   "execution_count": 49,
   "metadata": {},
   "outputs": [],
   "source": [
    "#Definimos as variavis para os modelos\n",
    "svc_model = SVC()\n",
    "lr_model = LogisticRegression()\n",
    "#xgbr_model = XGBRegressor(gamma='scale')\n",
    "xgbr_model = XGBClassifier()"
   ]
  },
  {
   "cell_type": "code",
   "execution_count": 50,
   "metadata": {},
   "outputs": [
    {
     "data": {
      "text/plain": [
       "SVC(C=1.0, break_ties=False, cache_size=200, class_weight=None, coef0=0.0,\n",
       "    decision_function_shape='ovr', degree=3, gamma='scale', kernel='rbf',\n",
       "    max_iter=-1, probability=False, random_state=None, shrinking=True,\n",
       "    tol=0.001, verbose=False)"
      ]
     },
     "execution_count": 50,
     "metadata": {},
     "output_type": "execute_result"
    }
   ],
   "source": [
    "#Trinando os modelos\n",
    "\n",
    "#Passamos pasamos os dados com \"resposta\" para treinar os modelos\n",
    "svc_model.fit(X_train,y_train)"
   ]
  },
  {
   "cell_type": "code",
   "execution_count": 51,
   "metadata": {},
   "outputs": [
    {
     "name": "stderr",
     "output_type": "stream",
     "text": [
      "C:\\ProgramData\\Anaconda3\\lib\\site-packages\\sklearn\\linear_model\\_logistic.py:940: ConvergenceWarning: lbfgs failed to converge (status=1):\n",
      "STOP: TOTAL NO. of ITERATIONS REACHED LIMIT.\n",
      "\n",
      "Increase the number of iterations (max_iter) or scale the data as shown in:\n",
      "    https://scikit-learn.org/stable/modules/preprocessing.html\n",
      "Please also refer to the documentation for alternative solver options:\n",
      "    https://scikit-learn.org/stable/modules/linear_model.html#logistic-regression\n",
      "  extra_warning_msg=_LOGISTIC_SOLVER_CONVERGENCE_MSG)\n"
     ]
    },
    {
     "data": {
      "text/plain": [
       "LogisticRegression(C=1.0, class_weight=None, dual=False, fit_intercept=True,\n",
       "                   intercept_scaling=1, l1_ratio=None, max_iter=100,\n",
       "                   multi_class='auto', n_jobs=None, penalty='l2',\n",
       "                   random_state=None, solver='lbfgs', tol=0.0001, verbose=0,\n",
       "                   warm_start=False)"
      ]
     },
     "execution_count": 51,
     "metadata": {},
     "output_type": "execute_result"
    }
   ],
   "source": [
    "lr_model.fit(X_train,y_train)"
   ]
  },
  {
   "cell_type": "code",
   "execution_count": 52,
   "metadata": {},
   "outputs": [
    {
     "data": {
      "text/plain": [
       "XGBClassifier(base_score=0.5, booster='gbtree', colsample_bylevel=1,\n",
       "              colsample_bynode=1, colsample_bytree=1, gamma=0, gpu_id=-1,\n",
       "              importance_type='gain', interaction_constraints='',\n",
       "              learning_rate=0.300000012, max_delta_step=0, max_depth=6,\n",
       "              min_child_weight=1, missing=nan, monotone_constraints='()',\n",
       "              n_estimators=100, n_jobs=0, num_parallel_tree=1,\n",
       "              objective='binary:logistic', random_state=0, reg_alpha=0,\n",
       "              reg_lambda=1, scale_pos_weight=1, subsample=1,\n",
       "              tree_method='exact', validate_parameters=1, verbosity=None)"
      ]
     },
     "execution_count": 52,
     "metadata": {},
     "output_type": "execute_result"
    }
   ],
   "source": [
    "xgbr_model.fit(X_train,y_train)"
   ]
  },
  {
   "cell_type": "markdown",
   "metadata": {},
   "source": [
    "## Avaliar o modelo\n",
    "\n",
    "Matriz de Confusão e Relatório de Classificação."
   ]
  },
  {
   "cell_type": "code",
   "execution_count": 53,
   "metadata": {},
   "outputs": [],
   "source": [
    "#Enviando os dados para o modelo de previsão para testar e pegando o resultado nas variaveis\n",
    "svc_predictions = svc_model.predict(X_test)\n",
    "lr_predictions = lr_model.predict(X_test)\n",
    "xgbr_predictions = xgbr_model.predict(X_test)"
   ]
  },
  {
   "cell_type": "code",
   "execution_count": 54,
   "metadata": {},
   "outputs": [],
   "source": [
    "#Importando a biblioteca com os modulos de report e matriz de confusão\n",
    "from sklearn.metrics import classification_report,confusion_matrix"
   ]
  },
  {
   "cell_type": "code",
   "execution_count": 55,
   "metadata": {},
   "outputs": [
    {
     "name": "stdout",
     "output_type": "stream",
     "text": [
      "[[13  6]\n",
      " [ 2 13]]\n",
      "[[16  3]\n",
      " [ 2 13]]\n",
      "[[19  0]\n",
      " [ 2 13]]\n"
     ]
    }
   ],
   "source": [
    "#Imprimindo a matriz de confusão passando os dados de teste com os resultados obtidos pelo modelo\n",
    "print(confusion_matrix(y_test,svc_predictions))\n",
    "print(confusion_matrix(y_test,lr_predictions))\n",
    "print(confusion_matrix(y_test,xgbr_predictions))"
   ]
  },
  {
   "cell_type": "code",
   "execution_count": 56,
   "metadata": {},
   "outputs": [
    {
     "name": "stdout",
     "output_type": "stream",
     "text": [
      "              precision    recall  f1-score   support\n",
      "\n",
      "    dormindo       0.87      0.68      0.76        19\n",
      "      normal       0.68      0.87      0.76        15\n",
      "\n",
      "    accuracy                           0.76        34\n",
      "   macro avg       0.78      0.78      0.76        34\n",
      "weighted avg       0.79      0.76      0.76        34\n",
      "\n",
      "              precision    recall  f1-score   support\n",
      "\n",
      "    dormindo       0.89      0.84      0.86        19\n",
      "      normal       0.81      0.87      0.84        15\n",
      "\n",
      "    accuracy                           0.85        34\n",
      "   macro avg       0.85      0.85      0.85        34\n",
      "weighted avg       0.86      0.85      0.85        34\n",
      "\n",
      "              precision    recall  f1-score   support\n",
      "\n",
      "    dormindo       0.90      1.00      0.95        19\n",
      "      normal       1.00      0.87      0.93        15\n",
      "\n",
      "    accuracy                           0.94        34\n",
      "   macro avg       0.95      0.93      0.94        34\n",
      "weighted avg       0.95      0.94      0.94        34\n",
      "\n"
     ]
    }
   ],
   "source": [
    "#Imprimindo o modelo passando os dados de teste com os resultados obtidos pelo modelo\n",
    "print(classification_report(y_test,svc_predictions))\n",
    "print(classification_report(y_test,lr_predictions))\n",
    "print(classification_report(y_test,xgbr_predictions))"
   ]
  },
  {
   "cell_type": "markdown",
   "metadata": {},
   "source": [
    "## Versão Bibliotecas"
   ]
  },
  {
   "cell_type": "code",
   "execution_count": null,
   "metadata": {},
   "outputs": [],
   "source": [
    "pip list"
   ]
  }
 ],
 "metadata": {
  "kernelspec": {
   "display_name": "Python 3",
   "language": "python",
   "name": "python3"
  },
  "language_info": {
   "codemirror_mode": {
    "name": "ipython",
    "version": 3
   },
   "file_extension": ".py",
   "mimetype": "text/x-python",
   "name": "python",
   "nbconvert_exporter": "python",
   "pygments_lexer": "ipython3",
   "version": "3.7.6"
  }
 },
 "nbformat": 4,
 "nbformat_minor": 4
}
