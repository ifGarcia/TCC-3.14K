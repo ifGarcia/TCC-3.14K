{
 "cells": [
  {
   "cell_type": "markdown",
   "metadata": {},
   "source": [
    "## Treinamento e teste dos modelos \"svm\" e \"linear_model\" <br>\n",
    "Testes e análise de resultado dos modelos"
   ]
  },
  {
   "cell_type": "code",
   "execution_count": 2,
   "metadata": {},
   "outputs": [],
   "source": [
    "#Import das bibliotecas ultilizadas\n",
    "import dlib\n",
    "import pandas as pd\n",
    "import os\n",
    "import matplotlib.pyplot as plt\n",
    "import seaborn as sns\n",
    "import numpy as np\n",
    "#%matplotlib inline"
   ]
  },
  {
   "cell_type": "code",
   "execution_count": 3,
   "metadata": {},
   "outputs": [],
   "source": [
    "#Abrindo os arquivos com os dados base coletados anteriormente.\n",
    "dataframeDormindo = pd.read_csv('Base_Dormindo.cvs')\n",
    "dataframeNormal   = pd.read_csv('Base_Normal.cvs')"
   ]
  },
  {
   "cell_type": "code",
   "execution_count": 4,
   "metadata": {},
   "outputs": [],
   "source": [
    "dataframeNormal.columns = dataframeDormindo.columns"
   ]
  },
  {
   "cell_type": "code",
   "execution_count": 5,
   "metadata": {},
   "outputs": [],
   "source": [
    "#APAGAR COLUNA\n",
    "    #dataframeDormindo.drop('Unnamed: 0', inplace=True, axis=1)\n",
    "#Adiciona coluna tag\n",
    "    #dataframeDormindo['tag'] = \"dormindo\"\n",
    "    #dataframeDormindo\n",
    "\n",
    "#____________________________________________________________________\n",
    "#____________________________________________________________________\n",
    "\n",
    "#APAGAR COLUNA\n",
    "    #dataframeNormal.drop('Unnamed: 0', inplace=True, axis=1) \n",
    "#Adiciona coluna tag\n",
    "    #dataframeNormal['tag'] = \"normal\"\n",
    "    #dataframeNormal"
   ]
  },
  {
   "cell_type": "code",
   "execution_count": 6,
   "metadata": {},
   "outputs": [],
   "source": [
    "#Salvar os dados sem considerar o index\n",
    "    #dataframeDormindo.to_csv(\"Base_Dormindo.cvs\",index=False)\n",
    "    #dataframeNormal.to_csv(\"Base_Normal.cvs\",index=False)"
   ]
  },
  {
   "cell_type": "code",
   "execution_count": 7,
   "metadata": {},
   "outputs": [],
   "source": [
    "#data frame \"dataTeste\" recebe as base de dados\n",
    "dataTeste = dataframeDormindo.append(dataframeNormal, ignore_index=True) "
   ]
  },
  {
   "cell_type": "code",
   "execution_count": 8,
   "metadata": {},
   "outputs": [],
   "source": [
    "#Embaralhamos as linhas para os dados não ficarem alinhados\n",
    "dataTeste = dataTeste.reindex(np.random.permutation(dataTeste.index))\n",
    "dataTeste = dataTeste.reset_index(drop=True)\n",
    "\n",
    "#substituido por random_state=1 na funcao train_test_split para buscar dados de froma aleatoria."
   ]
  },
  {
   "cell_type": "markdown",
   "metadata": {},
   "source": [
    "## Treinar os modelos"
   ]
  },
  {
   "cell_type": "code",
   "execution_count": 9,
   "metadata": {},
   "outputs": [],
   "source": [
    "#Import da biblioteca e do modulo para dividir os dados para teste e para treianmento\n",
    "from sklearn.model_selection import train_test_split"
   ]
  },
  {
   "cell_type": "code",
   "execution_count": 10,
   "metadata": {},
   "outputs": [],
   "source": [
    "#Separando os dados\n",
    "\n",
    "#Retirando a coluna \"tag\" e salvando\n",
    "X = dataTeste.drop('tag',axis=1)\n",
    "#Cria a coluna novamente porém sem os dados\n",
    "y = dataTeste['tag']\n",
    "#Separamos os dados e definimos 30% de dados para teste\n",
    "X_train, X_test, y_train, y_test = train_test_split(X, y,random_state=1, test_size=0.30)"
   ]
  },
  {
   "cell_type": "code",
   "execution_count": 11,
   "metadata": {},
   "outputs": [],
   "source": [
    "#import da biblioteca e dos modulos dos modelos para treinamento\n",
    "from sklearn.svm import SVC\n",
    "from sklearn.linear_model import LogisticRegression\n",
    "#from xgboost import XGBRegressor\n",
    "from xgboost import XGBClassifier"
   ]
  },
  {
   "cell_type": "code",
   "execution_count": 12,
   "metadata": {},
   "outputs": [],
   "source": [
    "#Definimos as variavis para os modelos\n",
    "svc_model = SVC()\n",
    "lr_model = LogisticRegression()\n",
    "#xgbr_model = XGBRegressor(gamma='scale')\n",
    "xgbr_model = XGBClassifier()"
   ]
  },
  {
   "cell_type": "code",
   "execution_count": 13,
   "metadata": {},
   "outputs": [
    {
     "data": {
      "text/plain": [
       "SVC()"
      ]
     },
     "execution_count": 13,
     "metadata": {},
     "output_type": "execute_result"
    }
   ],
   "source": [
    "#Trinando os modelos\n",
    "\n",
    "#Passamos pasamos os dados com \"resposta\" para treinar os modelos\n",
    "svc_model.fit(X_train,y_train)"
   ]
  },
  {
   "cell_type": "code",
   "execution_count": 14,
   "metadata": {},
   "outputs": [
    {
     "name": "stderr",
     "output_type": "stream",
     "text": [
      "C:\\Users\\vand3\\Anaconda3\\lib\\site-packages\\sklearn\\linear_model\\_logistic.py:764: ConvergenceWarning: lbfgs failed to converge (status=1):\n",
      "STOP: TOTAL NO. of ITERATIONS REACHED LIMIT.\n",
      "\n",
      "Increase the number of iterations (max_iter) or scale the data as shown in:\n",
      "    https://scikit-learn.org/stable/modules/preprocessing.html\n",
      "Please also refer to the documentation for alternative solver options:\n",
      "    https://scikit-learn.org/stable/modules/linear_model.html#logistic-regression\n",
      "  extra_warning_msg=_LOGISTIC_SOLVER_CONVERGENCE_MSG)\n"
     ]
    },
    {
     "data": {
      "text/plain": [
       "LogisticRegression()"
      ]
     },
     "execution_count": 14,
     "metadata": {},
     "output_type": "execute_result"
    }
   ],
   "source": [
    "lr_model.fit(X_train,y_train)"
   ]
  },
  {
   "cell_type": "code",
   "execution_count": 15,
   "metadata": {},
   "outputs": [
    {
     "data": {
      "text/plain": [
       "XGBClassifier()"
      ]
     },
     "execution_count": 15,
     "metadata": {},
     "output_type": "execute_result"
    }
   ],
   "source": [
    "xgbr_model.fit(X_train,y_train)"
   ]
  },
  {
   "cell_type": "markdown",
   "metadata": {},
   "source": [
    "## Avaliar o modelo\n",
    "\n",
    "Matriz de Confusão e Relatório de Classificação."
   ]
  },
  {
   "cell_type": "code",
   "execution_count": 16,
   "metadata": {},
   "outputs": [],
   "source": [
    "#Enviando os dados para o modelo de previsão para testar e pegando o resultado nas variaveis\n",
    "svc_predictions = svc_model.predict(X_test)\n",
    "lr_predictions = lr_model.predict(X_test)\n",
    "xgbr_predictions = xgbr_model.predict(X_test)"
   ]
  },
  {
   "cell_type": "code",
   "execution_count": 61,
   "metadata": {},
   "outputs": [],
   "source": [
    "#Importando a biblioteca com os modulos de report e matriz de confusão\n",
    "from sklearn.metrics import classification_report,confusion_matrix,f1_score,precision_score"
   ]
  },
  {
   "cell_type": "code",
   "execution_count": 18,
   "metadata": {},
   "outputs": [
    {
     "name": "stdout",
     "output_type": "stream",
     "text": [
      "[[13  5]\n",
      " [ 2 14]]\n",
      "[[16  2]\n",
      " [ 5 11]]\n",
      "[[16  2]\n",
      " [ 5 11]]\n"
     ]
    }
   ],
   "source": [
    "#Imprimindo a matriz de confusão passando os dados de teste com os resultados obtidos pelo modelo\n",
    "print(confusion_matrix(y_test,svc_predictions))\n",
    "print(confusion_matrix(y_test,lr_predictions))\n",
    "print(confusion_matrix(y_test,xgbr_predictions))"
   ]
  },
  {
   "cell_type": "code",
   "execution_count": 40,
   "metadata": {},
   "outputs": [
    {
     "data": {
      "text/plain": [
       "Text(0.5, 0.98, 'SVM')"
      ]
     },
     "execution_count": 40,
     "metadata": {},
     "output_type": "execute_result"
    },
    {
     "data": {
      "image/png": "[encoded data removed]",
      "text/plain": [
       "<Figure size 720x504 with 2 Axes>"
      ]
     },
     "metadata": {
      "needs_background": "light"
     },
     "output_type": "display_data"
    }
   ],
   "source": [
    "#grafico matrix conufsao.\n",
    "m=confusion_matrix(y_test,svc_predictions,y_test.unique())\n",
    "dfm = pd.DataFrame(m, index = [i for i in y_test.unique()\n",
    "],\n",
    "                  columns = [i for i in y_test.unique()])\n",
    "\n",
    "plt.figure(figsize = (10,7))\n",
    "\n",
    "graph=sns.heatmap(dfm, annot=True)\n",
    "graph.figure.suptitle('SVM')\n"
   ]
  },
  {
   "cell_type": "code",
   "execution_count": 20,
   "metadata": {},
   "outputs": [
    {
     "name": "stdout",
     "output_type": "stream",
     "text": [
      "SVM\n",
      "              precision    recall  f1-score   support\n",
      "\n",
      "    dormindo       0.87      0.72      0.79        18\n",
      "      normal       0.74      0.88      0.80        16\n",
      "\n",
      "    accuracy                           0.79        34\n",
      "   macro avg       0.80      0.80      0.79        34\n",
      "weighted avg       0.81      0.79      0.79        34\n",
      "\n",
      "Regressão Logistica\n",
      "              precision    recall  f1-score   support\n",
      "\n",
      "    dormindo       0.76      0.89      0.82        18\n",
      "      normal       0.85      0.69      0.76        16\n",
      "\n",
      "    accuracy                           0.79        34\n",
      "   macro avg       0.80      0.79      0.79        34\n",
      "weighted avg       0.80      0.79      0.79        34\n",
      "\n",
      "Classificação com XGBoost\n",
      "              precision    recall  f1-score   support\n",
      "\n",
      "    dormindo       0.76      0.89      0.82        18\n",
      "      normal       0.85      0.69      0.76        16\n",
      "\n",
      "    accuracy                           0.79        34\n",
      "   macro avg       0.80      0.79      0.79        34\n",
      "weighted avg       0.80      0.79      0.79        34\n",
      "\n"
     ]
    }
   ],
   "source": [
    "#Imprimindo o modelo passando os dados de teste com os resultados obtidos pelo modelo\n",
    "print(\"SVM\")\n",
    "print(classification_report(y_test,svc_predictions))\n",
    "print(\"Regressão Logistica\")\n",
    "print(classification_report(y_test,lr_predictions))\n",
    "print(\"Classificação com XGBoost\")\n",
    "print(classification_report(y_test,xgbr_predictions))"
   ]
  },
  {
   "cell_type": "code",
   "execution_count": 45,
   "metadata": {},
   "outputs": [],
   "source": [
    "#f1 Score\n",
    "Gsvc=f1_score(y_test, svc_predictions, average=None)\n",
    "Glr=f1_score(y_test, lr_predictions, average=None)\n",
    "Gxgbr=f1_score(y_test, xgbr_predictions, average=None)"
   ]
  },
  {
   "cell_type": "code",
   "execution_count": 59,
   "metadata": {},
   "outputs": [
    {
     "name": "stdout",
     "output_type": "stream",
     "text": [
      "F1 SCORE\n",
      "SVM \r\n",
      " - Dormindo  0.79 \\ Normal  0.80\n",
      "Regressão Logistica \r\n",
      " - Dormindo  0.82 \\ Normal  0.76\n",
      "XGBoost \r\n",
      " - Dormindo  0.82 \\ Normal  0.76\n"
     ]
    }
   ],
   "source": [
    "print('F1 SCORE')\n",
    "print(f'SVM \\r\\n - Dormindo {Gsvc[0]:5.2f} \\ Normal {Gsvc[1]:5.2f}')\n",
    "print(f'Regressão Logistica \\r\\n - Dormindo {Glr[0]:5.2f} \\ Normal {Glr[1]:5.2f}')\n",
    "print(f'XGBoost \\r\\n - Dormindo {Gxgbr[0]:5.2f} \\ Normal {Gxgbr[1]:5.2f}')"
   ]
  },
  {
   "cell_type": "code",
   "execution_count": 63,
   "metadata": {},
   "outputs": [],
   "source": [
    "#precisão\n",
    "#f1 Score\n",
    "Gsvc=precision_score(y_test, svc_predictions, average=None)\n",
    "Glr=precision_score(y_test, lr_predictions, average=None)\n",
    "Gxgbr=precision_score(y_test, xgbr_predictions, average=None)"
   ]
  },
  {
   "cell_type": "code",
   "execution_count": 64,
   "metadata": {},
   "outputs": [
    {
     "name": "stdout",
     "output_type": "stream",
     "text": [
      "Precisão\n",
      "SVM \r\n",
      " - Dormindo  0.87 \\ Normal  0.74\n",
      "Regressão Logistica \r\n",
      " - Dormindo  0.82 \\ Normal  0.76\n",
      "XGBoost \r\n",
      " - Dormindo  0.82 \\ Normal  0.76\n"
     ]
    }
   ],
   "source": [
    "print('Precisão')\n",
    "print(f'SVM \\r\\n - Dormindo {Gsvc[0]:5.2f} \\ Normal {Gsvc[1]:5.2f}')\n",
    "print(f'Regressão Logistica \\r\\n - Dormindo {Glr[0]:5.2f} \\ Normal {Glr[1]:5.2f}')\n",
    "print(f'XGBoost \\r\\n - Dormindo {Gxgbr[0]:5.2f} \\ Normal {Gxgbr[1]:5.2f}')"
   ]
  },
  {
   "cell_type": "markdown",
   "metadata": {},
   "source": [
    "## Versão Bibliotecas"
   ]
  },
  {
   "cell_type": "code",
   "execution_count": null,
   "metadata": {},
   "outputs": [],
   "source": [
    "pip list"
   ]
  }
 ],
 "metadata": {
  "kernelspec": {
   "display_name": "Python 3",
   "language": "python",
   "name": "python3"
  },
  "language_info": {
   "codemirror_mode": {
    "name": "ipython",
    "version": 3
   },
   "file_extension": ".py",
   "mimetype": "text/x-python",
   "name": "python",
   "nbconvert_exporter": "python",
   "pygments_lexer": "ipython3",
   "version": "3.7.3"
  }
 },
 "nbformat": 4,
 "nbformat_minor": 4
}
