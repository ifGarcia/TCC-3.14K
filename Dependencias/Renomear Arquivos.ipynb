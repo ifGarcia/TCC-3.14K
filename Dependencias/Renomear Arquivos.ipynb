{
 "cells": [
  {
   "cell_type": "markdown",
   "metadata": {},
   "source": [
    "<h2>Renomeia os arquivos de uma pasta<h2>"
   ]
  },
  {
   "cell_type": "code",
   "execution_count": null,
   "metadata": {},
   "outputs": [],
   "source": [
    "import os\n",
    "\n",
    "caminho = '../Videos/Dormindo/'\n",
    "num = 0\n",
    "\n",
    "# exemplo alterado de name_bla.py para 1.py\n",
    "for nome in os.listdir(caminho):\n",
    "    formato = \".\"+str(nome).split(\".\")[1]\n",
    "    num+=1\n",
    "    novo_nome = str(num) + formato\n",
    "    os.rename(caminho+nome, caminho+novo_nome)"
   ]
  }
 ],
 "metadata": {
  "kernelspec": {
   "display_name": "Python 3",
   "language": "python",
   "name": "python3"
  },
  "language_info": {
   "codemirror_mode": {
    "name": "ipython",
    "version": 3
   },
   "file_extension": ".py",
   "mimetype": "text/x-python",
   "name": "python",
   "nbconvert_exporter": "python",
   "pygments_lexer": "ipython3",
   "version": "3.7.6"
  }
 },
 "nbformat": 4,
 "nbformat_minor": 4
}
